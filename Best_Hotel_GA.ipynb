{
 "cells": [
  {
   "cell_type": "code",
   "execution_count": 1,
   "metadata": {},
   "outputs": [],
   "source": [
    "# Import dependencies \n",
    "import matplotlib.pyplot as plt\n",
    "import pandas as pd\n",
    "import numpy as np\n",
    "import json \n",
    "import requests\n",
    "import time\n",
    "from citipy import citipy\n",
    "import urllib\n",
    "\n",
    "# Import api key \n",
    "from api_keys import gkey "
   ]
  },
  {
   "cell_type": "code",
   "execution_count": 2,
   "metadata": {},
   "outputs": [
    {
     "ename": "ValueError",
     "evalue": "No tables found",
     "output_type": "error",
     "traceback": [
      "\u001b[1;31m---------------------------------------------------------------------------\u001b[0m",
      "\u001b[1;31mValueError\u001b[0m                                Traceback (most recent call last)",
      "\u001b[1;32m<ipython-input-2-963de3e4d763>\u001b[0m in \u001b[0;36m<module>\u001b[1;34m\u001b[0m\n\u001b[0;32m     12\u001b[0m \u001b[1;31m#cuyahoga_text = response.json()\u001b[0m\u001b[1;33m\u001b[0m\u001b[1;33m\u001b[0m\u001b[1;33m\u001b[0m\u001b[0m\n\u001b[0;32m     13\u001b[0m \u001b[1;33m\u001b[0m\u001b[0m\n\u001b[1;32m---> 14\u001b[1;33m \u001b[0mcalls_df\u001b[0m\u001b[1;33m,\u001b[0m \u001b[1;33m=\u001b[0m \u001b[0mpd\u001b[0m\u001b[1;33m.\u001b[0m\u001b[0mread_html\u001b[0m\u001b[1;33m(\u001b[0m\u001b[1;34m\"https://maps.googleapis.com/maps/api/place/textsearch/json?\"\u001b[0m\u001b[1;33m,\u001b[0m \u001b[0mheader\u001b[0m\u001b[1;33m=\u001b[0m\u001b[1;36m0\u001b[0m\u001b[1;33m,\u001b[0m \u001b[0mparse_dates\u001b[0m\u001b[1;33m=\u001b[0m\u001b[1;33m[\u001b[0m\u001b[1;34m\"name\"\u001b[0m\u001b[1;33m]\u001b[0m\u001b[1;33m)\u001b[0m\u001b[1;33m\u001b[0m\u001b[1;33m\u001b[0m\u001b[0m\n\u001b[0m\u001b[0;32m     15\u001b[0m \u001b[1;33m\u001b[0m\u001b[0m\n\u001b[0;32m     16\u001b[0m \u001b[1;31m#print(json.dumps(cuyahoga_text, indent=4, sort_keys=True))\u001b[0m\u001b[1;33m\u001b[0m\u001b[1;33m\u001b[0m\u001b[1;33m\u001b[0m\u001b[0m\n",
      "\u001b[1;32m~\\AppData\\Local\\Continuum\\anaconda3\\lib\\site-packages\\pandas\\io\\html.py\u001b[0m in \u001b[0;36mread_html\u001b[1;34m(io, match, flavor, header, index_col, skiprows, attrs, parse_dates, tupleize_cols, thousands, encoding, decimal, converters, na_values, keep_default_na, displayed_only)\u001b[0m\n\u001b[0;32m    985\u001b[0m                   \u001b[0mdecimal\u001b[0m\u001b[1;33m=\u001b[0m\u001b[0mdecimal\u001b[0m\u001b[1;33m,\u001b[0m \u001b[0mconverters\u001b[0m\u001b[1;33m=\u001b[0m\u001b[0mconverters\u001b[0m\u001b[1;33m,\u001b[0m \u001b[0mna_values\u001b[0m\u001b[1;33m=\u001b[0m\u001b[0mna_values\u001b[0m\u001b[1;33m,\u001b[0m\u001b[1;33m\u001b[0m\u001b[1;33m\u001b[0m\u001b[0m\n\u001b[0;32m    986\u001b[0m                   \u001b[0mkeep_default_na\u001b[0m\u001b[1;33m=\u001b[0m\u001b[0mkeep_default_na\u001b[0m\u001b[1;33m,\u001b[0m\u001b[1;33m\u001b[0m\u001b[1;33m\u001b[0m\u001b[0m\n\u001b[1;32m--> 987\u001b[1;33m                   displayed_only=displayed_only)\n\u001b[0m",
      "\u001b[1;32m~\\AppData\\Local\\Continuum\\anaconda3\\lib\\site-packages\\pandas\\io\\html.py\u001b[0m in \u001b[0;36m_parse\u001b[1;34m(flavor, io, match, attrs, encoding, displayed_only, **kwargs)\u001b[0m\n\u001b[0;32m    813\u001b[0m             \u001b[1;32mbreak\u001b[0m\u001b[1;33m\u001b[0m\u001b[1;33m\u001b[0m\u001b[0m\n\u001b[0;32m    814\u001b[0m     \u001b[1;32melse\u001b[0m\u001b[1;33m:\u001b[0m\u001b[1;33m\u001b[0m\u001b[1;33m\u001b[0m\u001b[0m\n\u001b[1;32m--> 815\u001b[1;33m         \u001b[0mraise_with_traceback\u001b[0m\u001b[1;33m(\u001b[0m\u001b[0mretained\u001b[0m\u001b[1;33m)\u001b[0m\u001b[1;33m\u001b[0m\u001b[1;33m\u001b[0m\u001b[0m\n\u001b[0m\u001b[0;32m    816\u001b[0m \u001b[1;33m\u001b[0m\u001b[0m\n\u001b[0;32m    817\u001b[0m     \u001b[0mret\u001b[0m \u001b[1;33m=\u001b[0m \u001b[1;33m[\u001b[0m\u001b[1;33m]\u001b[0m\u001b[1;33m\u001b[0m\u001b[1;33m\u001b[0m\u001b[0m\n",
      "\u001b[1;32m~\\AppData\\Local\\Continuum\\anaconda3\\lib\\site-packages\\pandas\\compat\\__init__.py\u001b[0m in \u001b[0;36mraise_with_traceback\u001b[1;34m(exc, traceback)\u001b[0m\n\u001b[0;32m    402\u001b[0m         \u001b[1;32mif\u001b[0m \u001b[0mtraceback\u001b[0m \u001b[1;33m==\u001b[0m \u001b[0mEllipsis\u001b[0m\u001b[1;33m:\u001b[0m\u001b[1;33m\u001b[0m\u001b[1;33m\u001b[0m\u001b[0m\n\u001b[0;32m    403\u001b[0m             \u001b[0m_\u001b[0m\u001b[1;33m,\u001b[0m \u001b[0m_\u001b[0m\u001b[1;33m,\u001b[0m \u001b[0mtraceback\u001b[0m \u001b[1;33m=\u001b[0m \u001b[0msys\u001b[0m\u001b[1;33m.\u001b[0m\u001b[0mexc_info\u001b[0m\u001b[1;33m(\u001b[0m\u001b[1;33m)\u001b[0m\u001b[1;33m\u001b[0m\u001b[1;33m\u001b[0m\u001b[0m\n\u001b[1;32m--> 404\u001b[1;33m         \u001b[1;32mraise\u001b[0m \u001b[0mexc\u001b[0m\u001b[1;33m.\u001b[0m\u001b[0mwith_traceback\u001b[0m\u001b[1;33m(\u001b[0m\u001b[0mtraceback\u001b[0m\u001b[1;33m)\u001b[0m\u001b[1;33m\u001b[0m\u001b[1;33m\u001b[0m\u001b[0m\n\u001b[0m\u001b[0;32m    405\u001b[0m \u001b[1;32melse\u001b[0m\u001b[1;33m:\u001b[0m\u001b[1;33m\u001b[0m\u001b[1;33m\u001b[0m\u001b[0m\n\u001b[0;32m    406\u001b[0m     \u001b[1;31m# this version of raise is a syntax error in Python 3\u001b[0m\u001b[1;33m\u001b[0m\u001b[1;33m\u001b[0m\u001b[1;33m\u001b[0m\u001b[0m\n",
      "\u001b[1;31mValueError\u001b[0m: No tables found"
     ]
    }
   ],
   "source": [
    "\n",
    "#text_type = \"lodging\"\n",
    "#location = \"hotels in Cuyahoga County\"\n",
    "\n",
    "#text_url = \"https://maps.googleapis.com/maps/api/place/textsearch/json?\"\n",
    "\n",
    "#params = {\"type\" : text_type,\n",
    "        # \"query\" : location,\n",
    "        # \"key\" : gkey}\n",
    "\n",
    "#response = requests.get(text_url, params=params)\n",
    "#cuyahoga_text = response.json()\n",
    "\n",
    "calls_df, = pd.read_html(\"https://maps.googleapis.com/maps/api/place/textsearch/json?\", header=0, parse_dates=[\"name\"])\n",
    "\n",
    "#print(json.dumps(cuyahoga_text, indent=4, sort_keys=True))\n",
    "\n",
    "calls_df.to_csv(\"hotel_test.csv\", index=False)"
   ]
  },
  {
   "cell_type": "code",
   "execution_count": null,
   "metadata": {},
   "outputs": [],
   "source": [
    "text_type = \"lodging\"\n",
    "location = \"hotels in Cuyahoga County\"\n",
    "\n",
    "text_url = \"https://maps.googleapis.com/maps/api/place/textsearch/json?\"\n",
    "\n",
    "params = {\"type\" : text_type,\n",
    "         \"query\" : location,\n",
    "         \"key\" : gkey}\n",
    "\n",
    "response = requests.get(text_url, params=params)\n",
    "cuyahoga_text = response.json()\n",
    "\n",
    "print(json.dumps(cuyahoga_text, indent=4, sort_keys=True))"
   ]
  },
  {
   "cell_type": "code",
   "execution_count": null,
   "metadata": {},
   "outputs": [],
   "source": [
    "place_id_list=[]\n",
    "lattitude = []\n",
    "longitude = []\n",
    "hotel_name = []\n",
    "single_rating = []\n",
    "user_ratings_total = []\n",
    "#types = []\n",
    "\n",
    "for i in range(len(cuyahoga_text[\"results\"])):\n",
    "    place_id = cuyahoga_text[\"results\"][i][\"place_id\"]\n",
    "    place_id_list.append(place_id)\n",
    "    name = cuyahoga_text[\"results\"][i][\"name\"]\n",
    "    hotel_name.append(name)\n",
    "    rating = cuyahoga_text[\"results\"][i][\"rating\"]\n",
    "    single_rating.append(rating)\n",
    "    lat = cuyahoga_text[\"results\"][i][\"geometry\"][\"location\"][\"lat\"]\n",
    "    lattitude.append(lat)\n",
    "    lng = cuyahoga_text[\"results\"][i][\"geometry\"][\"location\"][\"lng\"]\n",
    "    longitude.append(lng)\n",
    "    user = cuyahoga_text[\"results\"][i][\"user_ratings_total\"]\n",
    "    user_ratings_total.append(user_ratings_total)\n",
    "\n",
    "#Creating dataframe\n",
    "place_search_data = pd.DataFrame({\"Hotel ID\": place_id_list,\"Hotel Name\": hotel_name,\"Individual Rating\":rating,\n",
    "                                  \"Lattitude\":lattitude,\"Longitude\":longitude,\"User Total Rating\":user_ratings_total})\n",
    "#Export and display dataframe\n",
    "#weather_data.to_csv(r'output_data_file')\n",
    "place_search_data\n",
    "#single_rating"
   ]
  },
  {
   "cell_type": "code",
   "execution_count": null,
   "metadata": {},
   "outputs": [],
   "source": [
    "user = cuyahoga_text[\"results\"][i][\"user_ratings_total\"]\n",
    "user"
   ]
  },
  {
   "cell_type": "code",
   "execution_count": null,
   "metadata": {},
   "outputs": [],
   "source": [
    "place_id_list=[]\n",
    "\n",
    "print(len(cuyahoga_text[\"results\"]))\n",
    "\n",
    "for i in range(len(cuyahoga_text[\"results\"])):\n",
    "    place_id = cuyahoga_text[\"results\"][i][\"place_id\"]\n",
    "    place_id_list.append(place_id)\n",
    "\n",
    "clean_list=place_id_list\n",
    "clean_list"
   ]
  },
  {
   "cell_type": "code",
   "execution_count": null,
   "metadata": {},
   "outputs": [],
   "source": [
    "# Build base url for place details search \n",
    "base_url=\"https://maps.googleapis.com/maps/api/place/details/json?\"\n",
    "\n",
    "#build the search for a Hotel, included the required fields\n",
    "hotels=\"ChIJw7NyZnbqMIgREvjeepQ5ipg\"\n",
    "fields_included= \"price_level,rating,review,place_id,user_ratings_total\"\n",
    "\n",
    "params = {\"placeid\": hotels,\n",
    "         \"fields\": fields_included,\n",
    "         \"key\" : gkey}\n",
    "\n",
    "# Run request\n",
    "response = requests.get(base_url, params=params)\n",
    "hotel_details = response.json()\n",
    "\n",
    "#print (hotel_details)\n",
    "print(json.dumps(hotel_details, indent=4, sort_keys=True))\n"
   ]
  },
  {
   "cell_type": "code",
   "execution_count": null,
   "metadata": {},
   "outputs": [],
   "source": [
    "calls_df, = pd.read_html(\"http://apps.sandiego.gov/sdfiredispatch/\", header=0, parse_dates=[\"Call Date\"])\n",
    "\n",
    "calls_df.to_csv(\"calls.csv\", index=False)\n"
   ]
  },
  {
   "cell_type": "code",
   "execution_count": null,
   "metadata": {},
   "outputs": [],
   "source": []
  },
  {
   "cell_type": "code",
   "execution_count": null,
   "metadata": {},
   "outputs": [],
   "source": []
  },
  {
   "cell_type": "code",
   "execution_count": null,
   "metadata": {},
   "outputs": [],
   "source": []
  },
  {
   "cell_type": "code",
   "execution_count": null,
   "metadata": {},
   "outputs": [],
   "source": []
  },
  {
   "cell_type": "code",
   "execution_count": null,
   "metadata": {},
   "outputs": [],
   "source": []
  },
  {
   "cell_type": "code",
   "execution_count": null,
   "metadata": {},
   "outputs": [],
   "source": []
  },
  {
   "cell_type": "code",
   "execution_count": null,
   "metadata": {},
   "outputs": [],
   "source": []
  },
  {
   "cell_type": "code",
   "execution_count": null,
   "metadata": {},
   "outputs": [],
   "source": []
  },
  {
   "cell_type": "code",
   "execution_count": null,
   "metadata": {},
   "outputs": [],
   "source": []
  },
  {
   "cell_type": "code",
   "execution_count": null,
   "metadata": {},
   "outputs": [],
   "source": []
  },
  {
   "cell_type": "code",
   "execution_count": null,
   "metadata": {},
   "outputs": [],
   "source": []
  },
  {
   "cell_type": "code",
   "execution_count": null,
   "metadata": {},
   "outputs": [],
   "source": []
  },
  {
   "cell_type": "code",
   "execution_count": null,
   "metadata": {},
   "outputs": [],
   "source": []
  }
 ],
 "metadata": {
  "kernelspec": {
   "display_name": "Python 3",
   "language": "python",
   "name": "python3"
  },
  "language_info": {
   "codemirror_mode": {
    "name": "ipython",
    "version": 3
   },
   "file_extension": ".py",
   "mimetype": "text/x-python",
   "name": "python",
   "nbconvert_exporter": "python",
   "pygments_lexer": "ipython3",
   "version": "3.7.1"
  }
 },
 "nbformat": 4,
 "nbformat_minor": 2
}
